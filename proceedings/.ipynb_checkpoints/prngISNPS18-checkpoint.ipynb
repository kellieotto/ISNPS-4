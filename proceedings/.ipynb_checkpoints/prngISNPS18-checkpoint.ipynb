{
 "cells": [
  {
   "cell_type": "code",
   "execution_count": 1,
   "metadata": {
    "collapsed": true,
    "scrolled": false,
    "slideshow": {
     "slide_type": "skip"
    }
   },
   "outputs": [],
   "source": [
    "%matplotlib inline\n",
    "from __future__ import division, print_function, absolute_import\n",
    "import math\n",
    "import numpy as np\n",
    "import scipy as sp\n",
    "from scipy.misc import comb, factorial\n",
    "from scipy.optimize import brentq\n",
    "from scipy.stats import chisquare, norm\n",
    "import scipy.integrate\n",
    "from random import Random\n",
    "import matplotlib.pyplot as plt"
   ]
  },
  {
   "cell_type": "markdown",
   "metadata": {
    "nbpresent": {
     "id": "7c592b78-433d-4db4-8bf3-51222abc2ce8"
    },
    "slideshow": {
     "slide_type": "slide"
    }
   },
   "source": [
    "# <font color=\"blue\">With Great Power Comes Great Responsibility: <br /> Multivariate Permutation Tests and their Numerical Implementation</font>\n",
    "\n",
    "## Fortunato Pesarin, University of Padova, Italy\n",
    "\n",
    "## Philip B. Stark, Department of Statistics, UC Berkeley\n",
    "\n",
    "## This talk describes joint work with: <br />&nbsp;&nbsp;Kellie Ottoboni &  Jarrod Millman, UC Berkeley <br />&nbsp;&nbsp;Ron Rivest, MIT\n",
    "\n",
    "## International Society of Nonparametric Statistics (ISNPS)\n",
    "### Salerno, Italy\n",
    "### 11&ndash;15 June 2018"
   ]
  },
  {
   "cell_type": "markdown",
   "metadata": {
    "slideshow": {
     "slide_type": "slide"
    }
   },
   "source": [
    "1. Generic permutation tests\n",
    "1. Estimating $P$-values by simulation&ndash;in theory\n",
    "1. Numerical implementation: generating random transformations\n",
    "1. PRNGs\n",
    "1. Pseudo-random integers\n",
    "1. Pseudo-random permutations and sampling"
   ]
  },
  {
   "cell_type": "markdown",
   "metadata": {
    "slideshow": {
     "slide_type": "slide"
    }
   },
   "source": [
    "## Generic permutation test"
   ]
  },
  {
   "cell_type": "markdown",
   "metadata": {
    "slideshow": {
     "slide_type": "fragment"
    }
   },
   "source": [
    "+ Data $X \\sim F_X$ takes values in $\\mathcal{X}$."
   ]
  },
  {
   "cell_type": "markdown",
   "metadata": {
    "slideshow": {
     "slide_type": "fragment"
    }
   },
   "source": [
    "+ $\\mathcal{G}$ is a group of transformations from $\\mathcal{X}$ to $\\mathcal{X}$"
   ]
  },
  {
   "cell_type": "markdown",
   "metadata": {
    "slideshow": {
     "slide_type": "fragment"
    }
   },
   "source": [
    "+ Probability measure $\\mu$ on $\\mathcal{G}$ that is left and right invariant: If $G \\subset \\mathcal{G}$ is measurable, then $\\forall g \\in \\mathcal{G}$, $gG$ and $Gg$ are measurable, and $\\mu(G) = \\mu(gG) = \\mu(Gg)$."
   ]
  },
  {
   "cell_type": "markdown",
   "metadata": {
    "slideshow": {
     "slide_type": "fragment"
    }
   },
   "source": [
    "+ Under $H_0$, $\\forall g \\in \\mathcal{G}$, $X \\sim gX$"
   ]
  },
  {
   "cell_type": "markdown",
   "metadata": {
    "slideshow": {
     "slide_type": "fragment"
    }
   },
   "source": [
    "+ $T: \\mathcal{X} \\rightarrow \\mathbb{R}$ is a test statistic on $\\mathcal{X}$; large values considered evidence against $H_0$"
   ]
  },
  {
   "cell_type": "markdown",
   "metadata": {
    "slideshow": {
     "slide_type": "fragment"
    }
   },
   "source": [
    "+ Observe $X = x$."
   ]
  },
  {
   "cell_type": "markdown",
   "metadata": {
    "slideshow": {
     "slide_type": "fragment"
    }
   },
   "source": [
    "+ $p = \\mu \\{g \\in \\mathcal{G}: T(gx) \\ge Tx \\}$ is $P$-value of $H_0$, conditional on $X \\in \\mathcalG x$."
   ]
  },
  {
   "cell_type": "markdown",
   "metadata": {
    "slideshow": {
     "slide_type": "subslide"
    }
   },
   "source": [
    "## Estimating $P$-values by simulation"
   ]
  },
  {
   "cell_type": "markdown",
   "metadata": {
    "slideshow": {
     "slide_type": "fragment"
    }
   },
   "source": [
    "+ Generate $\\{G_j \\}$ IID $\\mu$"
   ]
  },
  {
   "cell_type": "markdown",
   "metadata": {
    "slideshow": {
     "slide_type": "fragment"
    }
   },
   "source": [
    "+ $1_{T(G_jx) \\ge Tx} \\sim \\mbox{Bernoulli}(P)$"
   ]
  },
  {
   "cell_type": "markdown",
   "metadata": {
    "slideshow": {
     "slide_type": "fragment"
    }
   },
   "source": [
    "+ tests about $P$ (incl. sequential tests); upper confidence bounds"
   ]
  },
  {
   "cell_type": "markdown",
   "metadata": {
    "nbpresent": {
     "id": "f5841a19-e7ea-4e49-bdd8-2efe17ff3740"
    },
    "slideshow": {
     "slide_type": "slide"
    }
   },
   "source": [
    "## Generating $G \\sim \\mu$ in practice"
   ]
  },
  {
   "cell_type": "markdown",
   "metadata": {
    "slideshow": {
     "slide_type": "fragment"
    }
   },
   "source": [
    "<div class=\"alert alert-block alert-info\"><big>The difference between theory and practice is smaller in theory than it is in practice. <br/>\n",
    "&nbsp;&nbsp;&nbsp;&nbsp;&nbsp;&nbsp;&nbsp;&nbsp;&mdash;unknown</big>\n",
    "</div>"
   ]
  },
  {
   "cell_type": "markdown",
   "metadata": {
    "slideshow": {
     "slide_type": "fragment"
    }
   },
   "source": [
    "<div class=\"alert alert-block alert-info\"><big>In theory, there's no difference between theory and practice, but in practice, there is. <br/>\n",
    "&nbsp;&nbsp;&nbsp;&nbsp;&nbsp;&nbsp;&nbsp;&nbsp;&mdash;Jan L.A. van de Snepscheut</big>\n",
    "</div>"
   ]
  },
  {
   "cell_type": "markdown",
   "metadata": {
    "slideshow": {
     "slide_type": "slide"
    }
   },
   "source": [
    "### PRNGs\n",
    "\n",
    "XKCD https://xkcd.com/221/\n",
    "\n",
    "![](./RandPics/XKCD_random_number.png)"
   ]
  },
  {
   "cell_type": "markdown",
   "metadata": {
    "slideshow": {
     "slide_type": "slide"
    }
   },
   "source": [
    "## Properties of PRNGs"
   ]
  },
  {
   "cell_type": "markdown",
   "metadata": {
    "slideshow": {
     "slide_type": "fragment"
    }
   },
   "source": [
    "+ dimension of output: commonly 32 bits, but some have more\n",
    "    "
   ]
  },
  {
   "cell_type": "markdown",
   "metadata": {
    "slideshow": {
     "slide_type": "fragment"
    }
   },
   "source": [
    "+ number of states\n",
    "    - some PRNGs have state = output\n",
    "    - better generators generally have output = f(state) <br /> dim(state) $>>$ dim(output)"
   ]
  },
  {
   "cell_type": "markdown",
   "metadata": {
    "slideshow": {
     "slide_type": "fragment"
    }
   },
   "source": [
    "+ period\n",
    "    - maximum over initial states of the number of states visited before repeating\n",
    "    - period &le; #states ($<<$ for some PRNGs/seeds)   "
   ]
  },
  {
   "cell_type": "markdown",
   "metadata": {
    "nbpresent": {
     "id": "85ecf6b8-17aa-4ac9-85c4-ad2d9e21ba47"
    },
    "slideshow": {
     "slide_type": "fragment"
    }
   },
   "source": [
    "+ sensitivity to initial state; burn-in\n",
    "    - many PRNGs don't do well if the seed has too many zeros\n",
    "    - some require many iterations before output behaves well"
   ]
  },
  {
   "cell_type": "markdown",
   "metadata": {
    "nbpresent": {
     "id": "85ecf6b8-17aa-4ac9-85c4-ad2d9e21ba47"
    },
    "slideshow": {
     "slide_type": "fragment"
    }
   },
   "source": [
    "+ general classes: really bad, \"adequate for statistics,\" cryptographically secure"
   ]
  },
  {
   "cell_type": "markdown",
   "metadata": {
    "nbpresent": {
     "id": "85ecf6b8-17aa-4ac9-85c4-ad2d9e21ba47"
    },
    "slideshow": {
     "slide_type": "fragment"
    }
   },
   "source": [
    "+ are those deemed \"adequate for statistics\" really adequate for statistics?"
   ]
  },
  {
   "cell_type": "markdown",
   "metadata": {
    "slideshow": {
     "slide_type": "slide"
    }
   },
   "source": [
    "## Some PRNGs"
   ]
  },
  {
   "cell_type": "markdown",
   "metadata": {
    "slideshow": {
     "slide_type": "fragment"
    }
   },
   "source": [
    "<div class=\"alert alert-block alert-warning\"><big>Anyone who considers arithmetical methods of producing random digits is, of course, in a state of sin. <br/>\n",
    "&nbsp;&nbsp;&nbsp;&nbsp;&nbsp;&nbsp;&nbsp;&nbsp;&mdash;John von Neumann</big></div>"
   ]
  },
  {
   "cell_type": "markdown",
   "metadata": {
    "slideshow": {
     "slide_type": "fragment"
    }
   },
   "source": [
    "+ Linear congruential (LCG) $ X_{n+1} = (aX_n +c)\\mod m.$ Period $\\le m$.\n",
    "\n",
    "+ Lagged Fibonacci, KISS, xorshift family, PCG, ... \n",
    "\n",
    "+ Wichmann-Hill Sum of 3 LCGs.  \n",
    "\n",
    "      def WH(s1, s2, s3):\n",
    "         s1 = (171 * s1) % 30269\n",
    "         s2 = (172 * s2) % 30307\n",
    "         s3 = (170 * s3) % 30323\n",
    "         r = (s1/30269 + s2/30307 + s3/30323) %  1\n",
    "         return [r, s1, s2, s3]"
   ]
  },
  {
   "cell_type": "markdown",
   "metadata": {
    "nbpresent": {
     "id": "1159c8e2-d02d-4116-b7a1-6ddd1dc358a3"
    },
    "slideshow": {
     "slide_type": "subslide"
    }
   },
   "source": [
    "![mcCullough](./RandPics/notWichmannHill08.png)\n",
    "McCullough, B.D., 2008. Microsoft Excel's 'Not The Wichmann–Hill' random number generators\n",
    "_Computational Statistics & Data Analysis_, _52_, 4587&ndash;4593\n",
    "doi:10.1016/j.csda.2008.03.006"
   ]
  },
  {
   "cell_type": "markdown",
   "metadata": {
    "slideshow": {
     "slide_type": "subslide"
    }
   },
   "source": [
    "IMF Stress tests use Excel as of 2014\n",
    "\n",
    "![IMF Stress testing](./RandPics/IMF-stress.png)"
   ]
  },
  {
   "cell_type": "markdown",
   "metadata": {
    "slideshow": {
     "slide_type": "subslide"
    }
   },
   "source": [
    "### Mersenne Twister (MT)  Matsumoto & Nishimura (1997)\n",
    "\n",
    "+ state space 19937 bits\n",
    "\n",
    "+ period $2^{19937}-1$, a Mersenne Prime\n",
    "\n",
    "+ can have slow \"burn in,\" especially for seeds with many zeros\n",
    "\n",
    "+ output for close seeds can be close\n",
    "\n",
    "+ perfectly predictable from 624 successive outputs; problems discovered in 2007\n"
   ]
  },
  {
   "cell_type": "markdown",
   "metadata": {
    "slideshow": {
     "slide_type": "fragment"
    }
   },
   "source": [
    "+ default in: GNU Octave, Maple, MATLAB, Mathematica, Python, R, Stata, many more"
   ]
  },
  {
   "cell_type": "markdown",
   "metadata": {
    "slideshow": {
     "slide_type": "slide"
    }
   },
   "source": [
    "## Cryptographic hash functions\n",
    "\n",
    "1. fixed-length \"digest\" from arbitrarily long \"message\": $H:\\{0, 1\\}^* \\rightarrow \\{0, 1\\}^L$.\n",
    "1. inexpensive to compute\n",
    "1. non-invertible (\"one-way,\" hard to find pre-image of any hash except by exhaustive enumeration)\n",
    "1. collision-resistant (hard to find $M_1 \\ne M_2$ such that $H(M_1) = H(M_2)$)\n",
    "1. small change to input produces big change to output (\"unpredictable,\" input and output effectively independent)\n",
    "1. equidistributed: bits of the hash are essentially random \n",
    "\n",
    "_As if_ $H(M)$ is random $L$-bit string is assigned to $M$ in a way that's essentially unique."
   ]
  },
  {
   "cell_type": "markdown",
   "metadata": {
    "slideshow": {
     "slide_type": "subslide"
    }
   },
   "source": [
    "#### Simple, hash-based PRNG\n",
    "\n",
    "Generate a random string $S$ of reasonable length, e.g., 20 digits.\n",
    "\n",
    "$$ X_i = {\\mbox{Hash}}(S,i),$$\n",
    "\n",
    "interpreted as a (long) hexadecimal number.\n",
    "\n",
    "Unbounded state space!"
   ]
  },
  {
   "cell_type": "markdown",
   "metadata": {
    "slideshow": {
     "slide_type": "slide"
    }
   },
   "source": [
    "### Generating a $U\\{1, \\ldots, m\\}$ variable"
   ]
  },
  {
   "cell_type": "markdown",
   "metadata": {
    "slideshow": {
     "slide_type": "fragment"
    }
   },
   "source": [
    "Textbook: take $X \\sim U[0,1)$; define $Y \\equiv 1 + \\lfloor mX \\rfloor$. "
   ]
  },
  {
   "cell_type": "markdown",
   "metadata": {
    "slideshow": {
     "slide_type": "fragment"
    }
   },
   "source": [
    "In practice, $X$ from a PRNG is not really $U[0,1)$: derived by normalizing a PRN\n",
    "that's (supposed to be) uniform on $w$-bit integers. "
   ]
  },
  {
   "cell_type": "markdown",
   "metadata": {
    "slideshow": {
     "slide_type": "subslide"
    }
   },
   "source": [
    "+ If $m > 2^w$, at least $m-2^w$ values will have probability 0 instead of probability $1/m$.\n",
    "\n",
    "+ Unless $m$ is a power of 2, the distribution of $Y$ isn't uniform on $\\{1, \\ldots, m\\}$. \n",
    "\n",
    "    - For $m < 2^w$, the ratio of the largest to smallest selection probability is, to first order,  $1+ m 2^{-w}$. (Knuth v2 3.4.1.A.)\n",
    "\n",
    "    - For $m = 10^9$ and $w=32$, $1 + m 2^{-w} \\approx 1.233$. \n",
    "\n",
    "    - If $w=32$, then for $m>2^{32}=4.24e9$, some values will have probability 0. \n",
    "    \n",
    "    - Until relatively recently, R did not support 64-bit integers."
   ]
  },
  {
   "cell_type": "markdown",
   "metadata": {
    "slideshow": {
     "slide_type": "subslide"
    }
   },
   "source": [
    "#### Better method\n",
    "\n",
    "Generate $\\log_2(m-1)$ pseudo-random bits; discard out-of-range numbers.\n",
    "\n",
    "`numpy.random.randint()` does this, but `numpy.random.choice()` doesn't\n",
    "\n",
    "In `R`, \n",
    "\n",
    "    sample(1:m, k, replace=FALSE) \n",
    "    \n",
    "uses variant of the faulty `1 + floor(m*X)` approach. "
   ]
  },
  {
   "cell_type": "markdown",
   "metadata": {
    "slideshow": {
     "slide_type": "subslide"
    }
   },
   "source": [
    "## Pigeonhole principle\n",
    "\n",
    "If you put $N>n$ pigeons in $n$ pigeonholes, then at least one\n",
    "pigeonhole must contain more than one pigeon."
   ]
  },
  {
   "cell_type": "markdown",
   "metadata": {
    "slideshow": {
     "slide_type": "fragment"
    }
   },
   "source": [
    "## Corollary\n",
    "At most $n$ pigeons can be put in $n$ pigeonholes if at most\n",
    "one pigeon is put in each hole."
   ]
  },
  {
   "cell_type": "markdown",
   "metadata": {
    "nbpresent": {
     "id": "cafedd64-2342-4b7d-8ca2-ba0ebf738d25"
    },
    "slideshow": {
     "slide_type": "subslide"
    }
   },
   "source": [
    "## Permutations\n",
    "\n",
    "Stirling bounds $ e n^{n+1/2} e^{-n} \\ge n! \\ge \\sqrt{2 \\pi} n^{n+1/2} e^{-n}.$"
   ]
  },
  {
   "cell_type": "markdown",
   "metadata": {
    "nbpresent": {
     "id": "ad1a7772-e30b-4369-8913-cd7b17e7be8e"
    },
    "slideshow": {
     "slide_type": "fragment"
    }
   },
   "source": [
    "## Sampling without replacement\n",
    "\n",
    "#### Entropy bounds.\n",
    "\n",
    "$ \\frac{2^{nH(k/n)}}{n+1} \\le {n \\choose k} \\le 2^{nH(k/n)},$ where $H(q) \\equiv -q \\log_2(q) - (1-q) \\log_2 (1-q)$.\n",
    "\n",
    "#### Stirling bounds\n",
    "\n",
    "For $\\ell \\ge 1$ and $m \\ge 2$, $ { {\\ell m } \\choose { \\ell }} \\ge \\frac{m^{m(\\ell-1)+1}}{\\sqrt{\\ell} (m-1)^{(m-1)(\\ell-1)}}. $"
   ]
  },
  {
   "cell_type": "markdown",
   "metadata": {
    "slideshow": {
     "slide_type": "fragment"
    }
   },
   "source": [
    "## Sampling with replacement \n",
    "\n",
    "$n^k$ possible samples of size $k$ from $n$ items"
   ]
  },
  {
   "cell_type": "markdown",
   "metadata": {
    "nbpresent": {
     "id": "72344475-defb-4fc8-bf4e-78b774924ebd"
    },
    "slideshow": {
     "slide_type": "subslide"
    }
   },
   "source": [
    "| Expression     | full      |  scientific notation | \n",
    "|:---------------:|----------:|----------:|\n",
    "|$2^{32}$        | 4,294,967,296 | 4.29e9 |\n",
    "|$2^{64}$        |   18,446,744,073,709,551,616 | 1.84e19|\n",
    "|$2^{128}$       |            | 3.40e38 |\n",
    "|$2^{32 \\times 624}$ | | 9.27e6010|\n",
    "|$13!$      |                           6,227,020,800 | 6.23e9|\n",
    "|$21!$      |     51,090,942,171,709,440,000 | 5.11e19|                        \n",
    "|$35!$      |                                    | 1.03e40|\n",
    "|$2084!$     |                                                 | 3.73e6013 |\n",
    "|${50 \\choose 10}$   |        10,272,278,170 | 1.03e10|\n",
    "|${100 \\choose 10}$ | 17,310,309,456,440 | 1.73e13|\n",
    "|${500 \\choose 10}$ |         |     2.4581e20 |\n",
    "|$\\frac{2^{32}}{{50 \\choose 10}}$   | 0.418 | |\n",
    "|$\\frac{2^{64}}{{500 \\choose 10}}$ | 0.075 | |\n",
    "|$\\frac{2^{32}}{7000!}$ | | $<$ 1e-54,958 |\n",
    "|$\\frac{2}{52!}$ | | 2.48e-68 |"
   ]
  },
  {
   "cell_type": "markdown",
   "metadata": {
    "slideshow": {
     "slide_type": "slide"
    }
   },
   "source": [
    "## $L_1$ bounds\n",
    "\n",
    "Suppose ${\\mathbb P}_0$ and ${\\mathbb P}_1$ are probability distributions on a common measurable space. \n",
    "\n",
    "If there is some set $S$ for which ${\\mathbb P}_0 = \\epsilon$ and ${\\mathbb P}_1(S) = 0$, then $\\|{\\mathbb P}_0 - {\\mathbb P}_1 \\|_1 \\ge 2 \\epsilon$."
   ]
  },
  {
   "cell_type": "markdown",
   "metadata": {
    "slideshow": {
     "slide_type": "fragment"
    }
   },
   "source": [
    "Thus there is a function $f$ with $|f| \\le 1$ such that \n",
    "\n",
    "$${\\mathbb E}_{{\\mathbb P}_0}f -  {\\mathbb E}_{{\\mathbb P}_1}f \\ge 2 \\epsilon.$$"
   ]
  },
  {
   "cell_type": "markdown",
   "metadata": {
    "slideshow": {
     "slide_type": "fragment"
    }
   },
   "source": [
    "- If PRNG has $n$ states and want to generate $N>n$ equally likely outcomes, at least $N-n$ outcomes will have probability zero instead of $1/N$."
   ]
  },
  {
   "cell_type": "markdown",
   "metadata": {
    "slideshow": {
     "slide_type": "fragment"
    }
   },
   "source": [
    "- $\\| \\mbox{true} - \\mbox{desired} \\|_1 \\ge 2 \\times \\frac{N-n}{N}$"
   ]
  },
  {
   "cell_type": "markdown",
   "metadata": {
    "slideshow": {
     "slide_type": "slide"
    }
   },
   "source": [
    "### Random sampling\n",
    "\n",
    "Given a good source of randomness, many ways to draw a simple random sample."
   ]
  },
  {
   "cell_type": "markdown",
   "metadata": {
    "slideshow": {
     "slide_type": "fragment"
    }
   },
   "source": [
    "One basic approach: shuffle then first $k$."
   ]
  },
  {
   "cell_type": "markdown",
   "metadata": {
    "nbpresent": {
     "id": "8fdde283-a832-4474-ab5e-ef3c9761d656"
    },
    "slideshow": {
     "slide_type": "fragment"
    }
   },
   "source": [
    "Many ways to generate pseudo-random permutation."
   ]
  },
  {
   "cell_type": "markdown",
   "metadata": {
    "nbpresent": {
     "id": "a706651a-ad14-4c8f-b945-84478d65f78c"
    },
    "slideshow": {
     "slide_type": "subslide"
    }
   },
   "source": [
    "### Algorithm `PIKK` (permute indices and keep $k$)\n",
    "\n",
    "For instance, if we had a way to generate independent, identically distributed (iid) $U[0,1]$ random numbers, we could do it as follows:\n",
    "\n",
    "**Algorithm `PIKK`**\n",
    "\n",
    "+ assign iid $U[0,1]$ numbers to the $n$ elements of the population\n",
    "+ sort on that number (break ties randomly)\n",
    "+ the sample consists of first $k$ items in sorted list \n",
    "+ amounts to generating a random permutation of the population, then taking first $k$.\n",
    "+ if the numbers really are iid, every permutation is equally likely, and first $k$ are an SRS\n",
    "+ requires $n$ random numbers (and sorting)"
   ]
  },
  {
   "cell_type": "code",
   "execution_count": 2,
   "metadata": {
    "collapsed": true,
    "nbpresent": {
     "id": "0e780766-11ca-4f79-8f44-01a3d6cbe624"
    },
    "scrolled": false,
    "slideshow": {
     "slide_type": "skip"
    }
   },
   "outputs": [],
   "source": [
    "def PIKK(n,k, gen=np.random):\n",
    "    try: \n",
    "        x = gen.random(n)\n",
    "    except TypeError:\n",
    "        x = np.array([gen.random() for i in np.arange(n)])\n",
    "    return set(np.argsort(x)[0:k])"
   ]
  },
  {
   "cell_type": "markdown",
   "metadata": {
    "slideshow": {
     "slide_type": "subslide"
    }
   },
   "source": [
    "More efficient:\n",
    "\n",
    "**Algorithm Fisher-Yates-Knuth-Durstenfeld `shuffle` (backwards version)**\n",
    "\n",
    "    for i=1, ..., n-1:\n",
    "        J <- random integer uniformly distributed on {i, ..., n}\n",
    "        (a[J], a[i]) <- (a[i], a[J])\n",
    "        \n",
    "+ need independent uniform integers on various ranges\n",
    "+ no sorting"
   ]
  },
  {
   "cell_type": "markdown",
   "metadata": {
    "nbpresent": {
     "id": "3bc782e1-c678-499f-8ef8-3e7c6071f80a"
    },
    "slideshow": {
     "slide_type": "subslide"
    }
   },
   "source": [
    "There's a version suitable for streaming, i.e., generating a random permutation of a list that has an (initially) unknown number $n$ of elements:\n",
    "\n",
    "**Algorithm Fisher-Yates-Knuth-Durstenfeld `shuffle` (streaming version)**\n",
    "\n",
    "    i <- 0\n",
    "    a = []\n",
    "    while there are records left:\n",
    "        i <- i+1\n",
    "        J <- random integer uniformly distributed on {1, ..., i}\n",
    "        if J < i:\n",
    "            a[i] <- a[J]\n",
    "            a[J] <- next record\n",
    "        else:\n",
    "            a[i] <- next record"
   ]
  },
  {
   "cell_type": "markdown",
   "metadata": {
    "nbpresent": {
     "id": "0dd3fa87-4f21-4743-96d8-1e9b7b38d670"
    },
    "slideshow": {
     "slide_type": "skip"
    }
   },
   "source": [
    "### Proof that the streaming Fisher-Yates-Knuth-Durstenfeld algorithm works\n",
    "\n",
    "Induction: \n",
    "\n",
    "For $i=1$, obvious.\n",
    "\n",
    "At stage $i$, suppose all $i!$ permutations are equally likely. For each such permutation, there are\n",
    "$i+1$ distinct, equally likely permutations at stage $i+1$, resulting from swapping the $i+1$st item with one\n",
    "of the first $i$, or putting it in position $i+1$. These possibilities are mutually exclusive of\n",
    "the permutations attainable from a different permutation of the first $i$ items.\n",
    "\n",
    "Thus, this enumerates all $(i+1)i! = (i+1)!$ permutations of $(i+1)$ items, and they are equally likely. &#x25A0;"
   ]
  },
  {
   "cell_type": "markdown",
   "metadata": {
    "slideshow": {
     "slide_type": "subslide"
    }
   },
   "source": [
    "## A good way to get a bad shuffle\n",
    "\n",
    "Sort using a \"random\" comparison function, e.g.,\n",
    "\n",
    "    def RandomSort(a,b):\n",
    "        return (0.5 - np.random.random())\n",
    "\n",
    "But this fails the basic properties of an ordering, e.g., transitivity, reflexiveness, etc. Doesn't produce random permutation. Output also depends on sorting algorithm. "
   ]
  },
  {
   "cell_type": "markdown",
   "metadata": {
    "nbpresent": {
     "id": "6816a681-8996-4885-8fd1-305004c9eeaf"
    },
    "slideshow": {
     "slide_type": "fragment"
    }
   },
   "source": [
    "<div class=\"alert alert-block alert-warning\"><big>The right way, the wrong way, and the Microsoft way.</big></div>\n",
    "\n",
    "Notoriously used by Microsoft to offer a selection of browsers in the EU. Resulted in IE being 5th of 5 about half the time in IE and about 26% of the time in Chrome, but only 6% of the time in Safari (4th about 40% of the time). \n",
    "\n",
    "See, e.g., http://www.computerworld.com/article/2520190/web-apps/microsoft-s-eu-ballot-fails-to-randomize-browser-order.html"
   ]
  },
  {
   "cell_type": "markdown",
   "metadata": {
    "nbpresent": {
     "id": "a84b3be0-9837-4d65-b77f-2ee2ae6f7092"
    },
    "slideshow": {
     "slide_type": "subslide"
    }
   },
   "source": [
    "### Cormen et al. (2009) Algorithm `Random_Sample`\n",
    "\n",
    "+ recursive algorithm\n",
    "+ requires only $k$ random numbers (integers)\n",
    "+ no sorting"
   ]
  },
  {
   "cell_type": "code",
   "execution_count": 3,
   "metadata": {
    "collapsed": false,
    "nbpresent": {
     "id": "c997a519-de55-48ce-a631-18c28c202b0b"
    },
    "scrolled": false,
    "slideshow": {
     "slide_type": "subslide"
    }
   },
   "outputs": [
    {
     "data": {
      "text/plain": [
       "{1, 4, 25, 84, 100}"
      ]
     },
     "execution_count": 3,
     "metadata": {},
     "output_type": "execute_result"
    }
   ],
   "source": [
    "def Random_Sample(n, k, gen=np.random):  # from Cormen et al. 2009\n",
    "    if k==0:\n",
    "        return set()\n",
    "    else:\n",
    "        S = Random_Sample(n-1, k-1)\n",
    "        i = gen.randint(1,n+1) \n",
    "        if i in S:\n",
    "            S = S.union([n])\n",
    "        else:\n",
    "            S = S.union([i])\n",
    "    return S\n",
    "\n",
    "Random_Sample(100,5)"
   ]
  },
  {
   "cell_type": "markdown",
   "metadata": {
    "nbpresent": {
     "id": "5ba00eb5-2f76-4bfd-8805-6f5de14d3d54"
    },
    "slideshow": {
     "slide_type": "slide"
    }
   },
   "source": [
    "## Reservoir algorithms \n",
    "\n",
    "The previous algorithms require $n$ to be known.\n",
    "There are _reservoir_ algorithms that do not.\n",
    "Moreover, the algorithms are suitable for streaming (aka _online_) use: items are examined\n",
    "sequentially and either enter into the reservoir, or, if not, are never revisited."
   ]
  },
  {
   "cell_type": "markdown",
   "metadata": {
    "nbpresent": {
     "id": "cf538b23-80fe-4c86-b701-8b41ace2d7b5"
    },
    "slideshow": {
     "slide_type": "subslide"
    }
   },
   "source": [
    "## Algorithm `R`, Waterman (per Knuth, 1997)\n",
    "+ Put first $k$ items into the _reservoir_\n",
    "\n",
    "+ when item $k+j$ is examined, either skip it (with probability $j/(k+j)$) or swap for a uniformly selected item in the reservoir (with probability $k/(k+j)$)\n",
    "\n",
    "+ naive version requires at most $n-k$ pseudo-random numbers\n",
    "\n",
    "+ closely related to FYKD shuffle"
   ]
  },
  {
   "cell_type": "markdown",
   "metadata": {
    "nbpresent": {
     "id": "c90702ad-4964-454d-bde8-c1e51737bc07"
    },
    "slideshow": {
     "slide_type": "subslide"
    }
   },
   "source": [
    "## Algorithm Z, Vitter (1985)\n",
    "\n",
    "Much more efficient than Algorithm `R`, using random skips. Essentially linear in $k$. \n",
    "\n",
    "Note: Vitter proposes using the (inaccurate) $J = \\lfloor mU \\rfloor$ to generate a random integer between $0$ and $m$ in both algorithm `R` and algorithm `Z`. Pervasive!"
   ]
  },
  {
   "cell_type": "markdown",
   "metadata": {
    "nbpresent": {
     "id": "9db040dc-5ddc-43b9-905a-bdfebc480f88"
    },
    "slideshow": {
     "slide_type": "slide"
    }
   },
   "source": [
    "## PRNGs in Common packages\n",
    "\n",
    "| Package/Lang   | default    | other      | SRS algorithm  |\n",
    "|:---------------|:----------:|:----------:|:--------------:|\n",
    "| SAS 9.2        | MT         | 32-bit LCG | Floyd's ordered hash or Fan et al. 1962 |\n",
    "| SPSS 20.0      | 32-bit LCG | MT1997ar   | trunc + rand indices |\n",
    "| SPSS &le; 12.0 | 32-bit LCG |            |                |\n",
    "| STATA 13       | KISS 32    |            | PIKK           |\n",
    "| STATA 14       | MT         |            | PIKK           |\n",
    "| R              | MT         |            | trunc + rand indices |\n",
    "| python         | MT         |            | mask + rand indices  |\n",
    "| MATLAB         | MT         |            | trunc + PIKK         |\n",
    "\n",
    "**Key.** MT = Mersenne Twister. LCG = linear congruential generator. PIKK = assign a number to each of the $n$ items and sort. The KISS generator combines 4 generators of three types: two multiply-with-carry\n",
    "generators, the 3-shift register SHR3 and the congruential generator CONG.\n",
    "\n",
    "STATA 10 before April 2011:\n",
    "95.1% of the $2^{31}$ possible seed values resulted in the first and second draws from rnormal() having the same sign."
   ]
  },
  {
   "cell_type": "markdown",
   "metadata": {
    "slideshow": {
     "slide_type": "slide"
    }
   },
   "source": [
    "## Is MT adequate for statistics?\n",
    "\n",
    "+ Know from pigeonhole argument that $L_1$ distance between true and desired is big for modest sampling & permutation problems.\n",
    "\n",
    "+ Know from equidistribution of MT that large ensemble frequencies will be right, but expect dependence issues\n",
    "\n",
    "+ Looking for problems that occur across seeds, large enough to be visible in $O(10^5)$ replications\n",
    "\n",
    "+ Examined simple random sample frequencies, derangements, partial derangements, Spearman correlation, etc.\n",
    "    \n",
    "+ _Must_ be problems, but where are they?"
   ]
  },
  {
   "cell_type": "markdown",
   "metadata": {
    "nbpresent": {
     "id": "8066555a-8af2-40b5-b264-a0fac9da86b7"
    },
    "slideshow": {
     "slide_type": "slide"
    }
   },
   "source": [
    "## Best Practices\n",
    "\n",
    "+ Use a source of real randomness to set the seed with a substantial amount of entropy, e.g., 20 rolls of 10-sided dice.\n",
    "+ Record the seed so your analysis is reproducible.\n",
    "+ Use a PRNG at least as good as the Mersenne Twister, and preferably a cryptographically secure PRNG. Consider the PCG family. \n",
    "+ Avoid standard linear congruential generators and the Wichmann-Hill generator.\n",
    "+ Use open-source software, and record the version of the software.\n",
    "+ Use a sampling algorithm that does not \"waste randomness.\" Avoid permuting the entire population.\n",
    "+ Be aware of discretization issues in the sampling algorithm; many methods assume the PRNG produces $U[0,1]$ or $U[0,1)$ random numbers, rather than (an approximation to) numbers that are uniform on $w$-bit binary integers.\n",
    "+ Consider the size of the problem: are your PRNG and sampling algorithm adequate?\n",
    "+ Avoid \"tests of representativeness\" and procedures that reject some samples. They alter the distribution of the sample."
   ]
  },
  {
   "cell_type": "markdown",
   "metadata": {
    "slideshow": {
     "slide_type": "subslide"
    }
   },
   "source": [
    "+ Building library for permutation tests in Python http://statlab.github.io/permute/\n",
    "\n",
    "    - Includes NPC\n",
    "\n",
    "+ Smaller library of examples in R to go with Pesarin & Salmaso's text https://github.com/statlab/permuter\n",
    "\n",
    "+ Working on plug-in CS-PRNG replacement for MT in Python https://github.com/statlab/cryptorandom\n",
    "\n",
    "    - Bottleneck in type casting in Python"
   ]
  },
  {
   "cell_type": "markdown",
   "metadata": {
    "nbpresent": {
     "id": "e155dd7f-847c-4154-9b55-5ace34c45a67"
    },
    "slideshow": {
     "slide_type": "subslide"
    }
   },
   "source": [
    "## Recommendations\n",
    "\n",
    "+ Replace the standard PRNGs in R and Python with PRNGs with unbounded state spaces, and cryptographic or near-cryptographic quality\n",
    "\n",
    "    - Consider using AES in counter mode, since Intel chips have hardware support for AES\n",
    "\n",
    "+ Replace `floor(1+nU)` in R's `sample()` with bit mask algorithm"
   ]
  },
  {
   "cell_type": "markdown",
   "metadata": {
    "nbpresent": {
     "id": "8c651f97-ced8-491b-b960-1971e68f20cd"
    },
    "slideshow": {
     "slide_type": "slide"
    }
   },
   "source": [
    "## References\n",
    "\n",
    "1. Argyros, G. and A. Kiayias, 2012. PRNG: Pwning Random Number Generators.\n",
    "https://media.blackhat.com/bh-us-12/Briefings/Argyros/BH_US_12_Argyros_PRNG_WP.pdf\n",
    "1. Bernstein, D.J., T. Lange, and R. Niederhagen, 2016. Dual EC: A Standardized Back Door, in _The New Codebreakers, Essays Dedicated to David Kahn on the Occasion of his 85th Birthday_, Ryan, P.Y.A., D. Naccache, and J-J Quisquater, eds., Springer, Berlin.\n",
    "1. Cormen, T.H., C.E. Leiserson, R.L. Rivest and C. Stein, 2009. _Introduction to Algorithms, 3rd edition_, MIT Press.\n",
    "1. Fishman, G.S., and L.R. Moore, 1981. In Search of Correlation in Multiplicative Congruential Generators with Modulus 2\\*\\*31-1, _Computer Science and Statistics: Proceedings of the 13 Symposium on the Interface_, William F. Eddy, ed., Springer Verlag, New York.\n",
    "1. Knuth, D., 1997 _The Art of Computer Programming, V.II: Seminumerical methods_, 3rd edition, Addison-Wesley, Boston.\n",
    "1. L'Ecuyer, P. and R. Simard, 2007. TestU01: A C Library for Empirical Testing of Random Number Generators, _ACM Trans. Math. Softw._, _33_, http://doi.acm.org/10.1145/1268776.1268777\n",
    "1. Marsaglia, G., 1968. Random Numbers Fall Mainly in the Planes, _PNAS_, _61_, 25&ndash;28.\n",
    "1. Marsaglia, G., 2003. Xorshift RNGs. _Journal of Statistical Software_, _8_, 1&ndash;6.\n",
    "1. Matsumoto, M., and T. Nishimura, 1998. 8). Mersenne twister: a 623-dimensionally equidistributed uniform pseudo-random number generator, _ACM Transactions on Modeling and Computer Simulation_, _8_, 3&ndash;30. doi:10.1145/272991.272995\n",
    "1. McCullough, B.D., 2008. Microsoft's 'Not the Wichmann-Hill' random number generator. _Computational Statistics and Data Analysis_, _52_ (10), 4587–4593. http://dx.doi.org/10.1016/j.csda.2008.03.006\n",
    "1. NIST Computer Security Division, _Random Number Generation_ http://csrc.nist.gov/groups/ST/toolkit/rng/\n",
    "1. O'Neill, M.E., 2015. PCG: A Family of Simple Fast Space-Efficient Statistically Good Algorithms for Random Number Generation, submitted to _ACM Transactions on Mathematical Software_. http://www.pcg-random.org/pdf/toms-oneill-pcg-family-v1.02.pdf\n",
    "1. http://www.pcg-random.org/\n",
    "1. Shannon, C.E., 1948. A Mathematical Theory of Communication, _Bell System Technical Journal, 27_, 379&ndash;423, 623&ndash;656. \n",
    "1. Vitter, J.S., 1985. Random Sampling with a Reservoir, _ACM Transactions on Mathematical Software, 11_, 37&ndash;57.\n",
    "1. Wikipedia articles, including https://en.wikipedia.org/wiki/Mersenne_Twister, https://en.wikipedia.org/wiki/Linear_congruential_generator, https://en.wikipedia.org/wiki/Comparison_of_hardware_random_number_generators, https://en.wikipedia.org/wiki/Pseudorandom_number_generator, https://en.wikipedia.org/wiki/List_of_random_number_generators, https://en.wikipedia.org/wiki/Random_number_generator_attack "
   ]
  },
  {
   "cell_type": "code",
   "execution_count": 4,
   "metadata": {
    "collapsed": false,
    "nbpresent": {
     "id": "27985606-0f78-414c-b5af-d21655f5ae76"
    },
    "scrolled": false,
    "slideshow": {
     "slide_type": "skip"
    }
   },
   "outputs": [
    {
     "name": "stdout",
     "output_type": "stream",
     "text": [
      "Loading extensions from ~/.ipython/extensions is deprecated. We recommend managing extensions like any other Python packages, in site-packages.\n"
     ]
    },
    {
     "name": "stderr",
     "output_type": "stream",
     "text": [
      "/anaconda/lib/python3.6/site-packages/IPython/core/formatters.py:839: FormatterWarning: JSON expects JSONable list/dict containers, not JSON strings\n",
      "  FormatterWarning)\n"
     ]
    },
    {
     "data": {
      "application/json": {
       "Software versions": [
        {
         "module": "Python",
         "version": "3.6.1 64bit [GCC 4.2.1 Compatible Apple LLVM 6.0 (clang-600.0.57)]"
        },
        {
         "module": "IPython",
         "version": "6.2.1"
        },
        {
         "module": "OS",
         "version": "Darwin 17.6.0 x86_64 i386 64bit"
        },
        {
         "module": "scipy",
         "version": "1.0.0"
        },
        {
         "module": "numpy",
         "version": "1.12.1"
        },
        {
         "module": "pandas",
         "version": "0.22.0"
        },
        {
         "module": "matplotlib",
         "version": "2.0.2"
        },
        {
         "module": "notebook",
         "version": "5.4.0"
        }
       ]
      },
      "text/html": [
       "<table><tr><th>Software</th><th>Version</th></tr><tr><td>Python</td><td>3.6.1 64bit [GCC 4.2.1 Compatible Apple LLVM 6.0 (clang-600.0.57)]</td></tr><tr><td>IPython</td><td>6.2.1</td></tr><tr><td>OS</td><td>Darwin 17.6.0 x86_64 i386 64bit</td></tr><tr><td>scipy</td><td>1.0.0</td></tr><tr><td>numpy</td><td>1.12.1</td></tr><tr><td>pandas</td><td>0.22.0</td></tr><tr><td>matplotlib</td><td>2.0.2</td></tr><tr><td>notebook</td><td>5.4.0</td></tr><tr><td colspan='2'>Thu May 31 12:38:58 2018 PDT</td></tr></table>"
      ],
      "text/latex": [
       "\\begin{tabular}{|l|l|}\\hline\n",
       "{\\bf Software} & {\\bf Version} \\\\ \\hline\\hline\n",
       "Python & 3.6.1 64bit [GCC 4.2.1 Compatible Apple LLVM 6.0 (clang-600.0.57)] \\\\ \\hline\n",
       "IPython & 6.2.1 \\\\ \\hline\n",
       "OS & Darwin 17.6.0 x86\\letterunderscore{}64 i386 64bit \\\\ \\hline\n",
       "scipy & 1.0.0 \\\\ \\hline\n",
       "numpy & 1.12.1 \\\\ \\hline\n",
       "pandas & 0.22.0 \\\\ \\hline\n",
       "matplotlib & 2.0.2 \\\\ \\hline\n",
       "notebook & 5.4.0 \\\\ \\hline\n",
       "\\hline \\multicolumn{2}{|l|}{Thu May 31 12:38:58 2018 PDT} \\\\ \\hline\n",
       "\\end{tabular}\n"
      ],
      "text/plain": [
       "Software versions\n",
       "Python 3.6.1 64bit [GCC 4.2.1 Compatible Apple LLVM 6.0 (clang-600.0.57)]\n",
       "IPython 6.2.1\n",
       "OS Darwin 17.6.0 x86_64 i386 64bit\n",
       "scipy 1.0.0\n",
       "numpy 1.12.1\n",
       "pandas 0.22.0\n",
       "matplotlib 2.0.2\n",
       "notebook 5.4.0\n",
       "Thu May 31 12:38:58 2018 PDT"
      ]
     },
     "execution_count": 4,
     "metadata": {},
     "output_type": "execute_result"
    }
   ],
   "source": [
    "%load_ext version_information\n",
    "%version_information scipy, numpy, pandas, matplotlib, notebook"
   ]
  },
  {
   "cell_type": "code",
   "execution_count": null,
   "metadata": {
    "collapsed": true,
    "nbpresent": {
     "id": "31a9a65d-d3a8-49ef-8ac2-7d7740c5a203"
    },
    "slideshow": {
     "slide_type": "skip"
    }
   },
   "outputs": [],
   "source": []
  }
 ],
 "metadata": {
  "anaconda-cloud": {},
  "celltoolbar": "Slideshow",
  "kernelspec": {
   "display_name": "Python 3",
   "language": "python",
   "name": "python3"
  },
  "language_info": {
   "codemirror_mode": {
    "name": "ipython",
    "version": 3
   },
   "file_extension": ".py",
   "mimetype": "text/x-python",
   "name": "python",
   "nbconvert_exporter": "python",
   "pygments_lexer": "ipython3",
   "version": "3.4.3"
  },
  "nbpresent": {
   "slides": {
    "2c31fdd9-dea4-4ccc-815a-10e8bda0941f": {
     "id": "2c31fdd9-dea4-4ccc-815a-10e8bda0941f",
     "prev": "eae1a0cf-36dc-49ca-a8d5-b7642ba36a22",
     "regions": {
      "d2ebb5bf-b74e-4c0b-8d3a-8b7378b8e630": {
       "attrs": {
        "height": 1,
        "width": 1,
        "x": 0,
        "y": 0
       },
       "content": {
        "cell": "cb23e26a-4f21-4615-b126-5d7a110eb542",
        "part": "whole"
       },
       "id": "d2ebb5bf-b74e-4c0b-8d3a-8b7378b8e630"
      }
     }
    },
    "76ded17c-b706-469b-934e-4466dea74da8": {
     "id": "76ded17c-b706-469b-934e-4466dea74da8",
     "layout": "manual",
     "prev": "e4c9bcb5-dd0b-4f11-8cb8-6a74aaab3448",
     "regions": {
      "8ecc2405-5135-4310-87be-9506e08a6260": {
       "attrs": {
        "height": 1,
        "width": 1,
        "x": -0.0035629453681710215,
        "y": 0.00422275006598047
       },
       "id": "8ecc2405-5135-4310-87be-9506e08a6260"
      }
     }
    },
    "bc4ff9cc-16ec-4c6f-98f3-7267bd014019": {
     "id": "bc4ff9cc-16ec-4c6f-98f3-7267bd014019",
     "prev": null,
     "regions": {
      "19ad7bc5-0af8-4ec5-b867-d56a5aef1e3d": {
       "attrs": {
        "height": 1,
        "width": 1,
        "x": 0,
        "y": 0
       },
       "content": {
        "cell": "7c592b78-433d-4db4-8bf3-51222abc2ce8",
        "part": "whole"
       },
       "id": "19ad7bc5-0af8-4ec5-b867-d56a5aef1e3d"
      }
     }
    },
    "e4c9bcb5-dd0b-4f11-8cb8-6a74aaab3448": {
     "id": "e4c9bcb5-dd0b-4f11-8cb8-6a74aaab3448",
     "prev": "2c31fdd9-dea4-4ccc-815a-10e8bda0941f",
     "regions": {
      "f060dfff-d4d8-494e-aa19-e2ad81d78a2d": {
       "attrs": {
        "height": 1,
        "width": 1,
        "x": 0,
        "y": 0
       },
       "content": {
        "cell": "f79b9a6d-7258-4d6a-9b08-cb8d56d21259",
        "part": "whole"
       },
       "id": "f060dfff-d4d8-494e-aa19-e2ad81d78a2d"
      }
     }
    },
    "eae1a0cf-36dc-49ca-a8d5-b7642ba36a22": {
     "id": "eae1a0cf-36dc-49ca-a8d5-b7642ba36a22",
     "prev": "bc4ff9cc-16ec-4c6f-98f3-7267bd014019",
     "regions": {
      "e4e5f330-1178-4d9b-9fc1-06afea68e454": {
       "attrs": {
        "height": 1,
        "width": 1,
        "x": 0,
        "y": 0
       },
       "content": {
        "cell": "f5841a19-e7ea-4e49-bdd8-2efe17ff3740",
        "part": "source"
       },
       "id": "e4e5f330-1178-4d9b-9fc1-06afea68e454"
      }
     }
    }
   },
   "themes": {}
  }
 },
 "nbformat": 4,
 "nbformat_minor": 1
}
